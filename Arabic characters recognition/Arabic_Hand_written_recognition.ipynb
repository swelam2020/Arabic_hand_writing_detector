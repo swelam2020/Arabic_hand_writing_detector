{
 "cells": [
  {
   "cell_type": "code",
   "execution_count": 1,
   "metadata": {
    "id": "_SRzI8E0DunM"
   },
   "outputs": [],
   "source": [
    "# Import main libraries necessary for this project\n",
    "import numpy as np\n",
    "import pandas as pd\n",
    "from IPython.display import display # Allows the use of display() for DataFrames\n",
    "\n",
    "# Import libraries needed for reading image and processing it\n",
    "import csv\n",
    "from PIL import Image\n",
    "from scipy.ndimage import rotate\n",
    "\n",
    "# Pretty display for notebooks\n",
    "%matplotlib inline"
   ]
  },
  {
   "cell_type": "code",
   "execution_count": 2,
   "metadata": {
    "colab": {
     "base_uri": "https://localhost:8080/",
     "height": 270
    },
    "id": "Rp9uUzqjD4vt",
    "outputId": "b16a5ca6-7595-4642-c400-da1112ff7128"
   },
   "outputs": [
    {
     "name": "stdout",
     "output_type": "stream",
     "text": [
      "There are 13440 training arabic letter images of 32x32 pixels.\n",
      "There are 3360 testing arabic letter images of 32x32 pixels.\n"
     ]
    },
    {
     "data": {
      "text/html": [
       "<div>\n",
       "<style scoped>\n",
       "    .dataframe tbody tr th:only-of-type {\n",
       "        vertical-align: middle;\n",
       "    }\n",
       "\n",
       "    .dataframe tbody tr th {\n",
       "        vertical-align: top;\n",
       "    }\n",
       "\n",
       "    .dataframe thead th {\n",
       "        text-align: right;\n",
       "    }\n",
       "</style>\n",
       "<table border=\"1\" class=\"dataframe\">\n",
       "  <thead>\n",
       "    <tr style=\"text-align: right;\">\n",
       "      <th></th>\n",
       "      <th>0</th>\n",
       "      <th>1</th>\n",
       "      <th>2</th>\n",
       "      <th>3</th>\n",
       "      <th>4</th>\n",
       "      <th>5</th>\n",
       "      <th>6</th>\n",
       "      <th>7</th>\n",
       "      <th>8</th>\n",
       "      <th>9</th>\n",
       "      <th>...</th>\n",
       "      <th>1014</th>\n",
       "      <th>1015</th>\n",
       "      <th>1016</th>\n",
       "      <th>1017</th>\n",
       "      <th>1018</th>\n",
       "      <th>1019</th>\n",
       "      <th>1020</th>\n",
       "      <th>1021</th>\n",
       "      <th>1022</th>\n",
       "      <th>1023</th>\n",
       "    </tr>\n",
       "  </thead>\n",
       "  <tbody>\n",
       "    <tr>\n",
       "      <th>0</th>\n",
       "      <td>0</td>\n",
       "      <td>0</td>\n",
       "      <td>0</td>\n",
       "      <td>0</td>\n",
       "      <td>0</td>\n",
       "      <td>0</td>\n",
       "      <td>0</td>\n",
       "      <td>0</td>\n",
       "      <td>0</td>\n",
       "      <td>0</td>\n",
       "      <td>...</td>\n",
       "      <td>0</td>\n",
       "      <td>0</td>\n",
       "      <td>0</td>\n",
       "      <td>0</td>\n",
       "      <td>0</td>\n",
       "      <td>0</td>\n",
       "      <td>0</td>\n",
       "      <td>0</td>\n",
       "      <td>0</td>\n",
       "      <td>0</td>\n",
       "    </tr>\n",
       "    <tr>\n",
       "      <th>1</th>\n",
       "      <td>0</td>\n",
       "      <td>0</td>\n",
       "      <td>0</td>\n",
       "      <td>0</td>\n",
       "      <td>0</td>\n",
       "      <td>0</td>\n",
       "      <td>0</td>\n",
       "      <td>0</td>\n",
       "      <td>0</td>\n",
       "      <td>0</td>\n",
       "      <td>...</td>\n",
       "      <td>0</td>\n",
       "      <td>0</td>\n",
       "      <td>0</td>\n",
       "      <td>0</td>\n",
       "      <td>0</td>\n",
       "      <td>0</td>\n",
       "      <td>0</td>\n",
       "      <td>0</td>\n",
       "      <td>0</td>\n",
       "      <td>0</td>\n",
       "    </tr>\n",
       "    <tr>\n",
       "      <th>2</th>\n",
       "      <td>0</td>\n",
       "      <td>0</td>\n",
       "      <td>0</td>\n",
       "      <td>0</td>\n",
       "      <td>0</td>\n",
       "      <td>0</td>\n",
       "      <td>0</td>\n",
       "      <td>0</td>\n",
       "      <td>0</td>\n",
       "      <td>0</td>\n",
       "      <td>...</td>\n",
       "      <td>0</td>\n",
       "      <td>0</td>\n",
       "      <td>0</td>\n",
       "      <td>0</td>\n",
       "      <td>0</td>\n",
       "      <td>0</td>\n",
       "      <td>0</td>\n",
       "      <td>0</td>\n",
       "      <td>0</td>\n",
       "      <td>0</td>\n",
       "    </tr>\n",
       "    <tr>\n",
       "      <th>3</th>\n",
       "      <td>0</td>\n",
       "      <td>0</td>\n",
       "      <td>0</td>\n",
       "      <td>0</td>\n",
       "      <td>0</td>\n",
       "      <td>0</td>\n",
       "      <td>0</td>\n",
       "      <td>0</td>\n",
       "      <td>0</td>\n",
       "      <td>0</td>\n",
       "      <td>...</td>\n",
       "      <td>0</td>\n",
       "      <td>0</td>\n",
       "      <td>0</td>\n",
       "      <td>0</td>\n",
       "      <td>0</td>\n",
       "      <td>0</td>\n",
       "      <td>0</td>\n",
       "      <td>0</td>\n",
       "      <td>0</td>\n",
       "      <td>0</td>\n",
       "    </tr>\n",
       "    <tr>\n",
       "      <th>4</th>\n",
       "      <td>0</td>\n",
       "      <td>0</td>\n",
       "      <td>0</td>\n",
       "      <td>0</td>\n",
       "      <td>0</td>\n",
       "      <td>0</td>\n",
       "      <td>0</td>\n",
       "      <td>0</td>\n",
       "      <td>0</td>\n",
       "      <td>0</td>\n",
       "      <td>...</td>\n",
       "      <td>0</td>\n",
       "      <td>0</td>\n",
       "      <td>0</td>\n",
       "      <td>0</td>\n",
       "      <td>0</td>\n",
       "      <td>0</td>\n",
       "      <td>0</td>\n",
       "      <td>0</td>\n",
       "      <td>0</td>\n",
       "      <td>0</td>\n",
       "    </tr>\n",
       "  </tbody>\n",
       "</table>\n",
       "<p>5 rows × 1024 columns</p>\n",
       "</div>"
      ],
      "text/plain": [
       "   0     1     2     3     4     5     6     7     8     9     ...  1014  \\\n",
       "0     0     0     0     0     0     0     0     0     0     0  ...     0   \n",
       "1     0     0     0     0     0     0     0     0     0     0  ...     0   \n",
       "2     0     0     0     0     0     0     0     0     0     0  ...     0   \n",
       "3     0     0     0     0     0     0     0     0     0     0  ...     0   \n",
       "4     0     0     0     0     0     0     0     0     0     0  ...     0   \n",
       "\n",
       "   1015  1016  1017  1018  1019  1020  1021  1022  1023  \n",
       "0     0     0     0     0     0     0     0     0     0  \n",
       "1     0     0     0     0     0     0     0     0     0  \n",
       "2     0     0     0     0     0     0     0     0     0  \n",
       "3     0     0     0     0     0     0     0     0     0  \n",
       "4     0     0     0     0     0     0     0     0     0  \n",
       "\n",
       "[5 rows x 1024 columns]"
      ]
     },
     "execution_count": 2,
     "metadata": {},
     "output_type": "execute_result"
    }
   ],
   "source": [
    "# Training letters images and labels files\n",
    "letters_training_images_file_path = \"csvTrainImages 13440x1024.csv\"\n",
    "letters_training_labels_file_path = \"csvTrainLabel 13440x1.csv\"\n",
    "# Testing letters images and labels files\n",
    "letters_testing_images_file_path = \"csvTestImages 3360x1024.csv\"\n",
    "letters_testing_labels_file_path = \"csvTestLabel 3360x1.csv\"\n",
    "\n",
    "# Loading dataset into dataframes\n",
    "training_letters_images = pd.read_csv(letters_training_images_file_path, header=None)\n",
    "training_letters_labels = pd.read_csv(letters_training_labels_file_path, header=None)\n",
    "testing_letters_images = pd.read_csv(letters_testing_images_file_path, header=None)\n",
    "testing_letters_labels = pd.read_csv(letters_testing_labels_file_path, header=None)\n",
    "\n",
    "# print statistics about the dataset\n",
    "print(\"There are %d training arabic letter images of 32x32 pixels.\" %training_letters_images.shape[0])\n",
    "print(\"There are %d testing arabic letter images of 32x32 pixels.\" %testing_letters_images.shape[0])\n",
    "training_letters_images.head()"
   ]
  },
  {
   "cell_type": "code",
   "execution_count": null,
   "metadata": {
    "id": "zsEP5cCaEngx"
   },
   "outputs": [],
   "source": [
    "def convert_values_to_image(image_values, display=False):\n",
    "    image_array = np.asarray(image_values)\n",
    "    image_array = image_array.reshape(32,32).astype('uint8')\n",
    "    # The original dataset is reflected so we will flip it then rotate for a better view only.\n",
    "    image_array = np.flip(image_array, 0)\n",
    "    image_array = rotate(image_array, -90)\n",
    "    new_image = Image.fromarray(image_array)\n",
    "    if display == True:\n",
    "        new_image.show()\n",
    "    return new_image"
   ]
  },
  {
   "cell_type": "code",
   "execution_count": null,
   "metadata": {
    "colab": {
     "base_uri": "https://localhost:8080/",
     "height": 49
    },
    "id": "-Pnf_Q7nFIwl",
    "outputId": "2160d050-7810-41c3-d428-36e67fc8f4f7"
   },
   "outputs": [
    {
     "data": {
      "image/png": "[encoded data removed]",
      "text/plain": [
       "<PIL.Image.Image image mode=L size=32x32 at 0x7FAC3E1DBDD0>"
      ]
     },
     "execution_count": 8,
     "metadata": {},
     "output_type": "execute_result"
    }
   ],
   "source": [
    "convert_values_to_image(training_letters_images.loc[0], True)\n"
   ]
  },
  {
   "cell_type": "markdown",
   "metadata": {
    "id": "EuzN5ts0Fax7"
   },
   "source": [
    "**Data Pre-processing**"
   ]
  },
  {
   "cell_type": "code",
   "execution_count": null,
   "metadata": {
    "id": "GgxcrH3ZFgke"
   },
   "outputs": [],
   "source": [
    "#Normalization \n",
    "\n",
    "training_letters_images_scaled = training_letters_images.values.astype('float32')/255\n",
    "training_letters_labels = training_letters_labels.values.astype('int32')\n",
    "\n",
    "testing_letters_images_scaled = testing_letters_images.values.astype('float32')/255\n",
    "testing_letters_labels = testing_letters_labels.values.astype('int32')\n"
   ]
  },
  {
   "cell_type": "code",
   "execution_count": null,
   "metadata": {
    "colab": {
     "base_uri": "https://localhost:8080/"
    },
    "id": "K9PBNjIvGdQP",
    "outputId": "cc51c5bd-3fce-4ee3-9938-0d69cc4ada71"
   },
   "outputs": [
    {
     "data": {
      "text/plain": [
       "array([[ 1],\n",
       "       [ 1],\n",
       "       [ 2],\n",
       "       ...,\n",
       "       [27],\n",
       "       [28],\n",
       "       [28]], dtype=int32)"
      ]
     },
     "execution_count": 10,
     "metadata": {},
     "output_type": "execute_result"
    }
   ],
   "source": [
    "testing_letters_labels"
   ]
  },
  {
   "cell_type": "code",
   "execution_count": null,
   "metadata": {
    "colab": {
     "base_uri": "https://localhost:8080/"
    },
    "id": "FkJend9iFqYt",
    "outputId": "a13c3544-2554-4a71-8132-2fcf529893fd"
   },
   "outputs": [
    {
     "name": "stdout",
     "output_type": "stream",
     "text": [
      "[[1. 0. 0. ... 0. 0. 0.]\n",
      " [1. 0. 0. ... 0. 0. 0.]\n",
      " [1. 0. 0. ... 0. 0. 0.]\n",
      " ...\n",
      " [0. 0. 0. ... 0. 0. 1.]\n",
      " [0. 0. 0. ... 0. 0. 1.]\n",
      " [0. 0. 0. ... 0. 0. 1.]]\n"
     ]
    }
   ],
   "source": [
    "#categorical encoding \n",
    "#'Alef' --> '0 etc,\n",
    "\n",
    "from tensorflow.keras.utils import to_categorical\n",
    "\n",
    "# one hot encoding\n",
    "# number of classes = 28 (arabic alphabet classes)\n",
    "number_of_classes = 28\n",
    "\n",
    "training_letters_labels_encoded = to_categorical(training_letters_labels-1, num_classes=number_of_classes)\n",
    "testing_letters_labels_encoded = to_categorical(testing_letters_labels-1, num_classes=number_of_classes)\n",
    "print(training_letters_labels_encoded)\n"
   ]
  },
  {
   "cell_type": "code",
   "execution_count": null,
   "metadata": {
    "colab": {
     "base_uri": "https://localhost:8080/"
    },
    "id": "a1upegzUGs_e",
    "outputId": "799bd2a8-ab33-446b-9355-81f6aa7fce21"
   },
   "outputs": [
    {
     "name": "stdout",
     "output_type": "stream",
     "text": [
      "(13440, 32, 32, 1) (13440, 28) (3360, 32, 32, 1) (3360, 28)\n"
     ]
    }
   ],
   "source": [
    "\"\"\"\n",
    " input shape should be (nb_samples,rows,columns,channels)\n",
    "\"\"\"\n",
    "# reshape input letter images to 32x32x1\n",
    "training_letters_images_scaled = training_letters_images_scaled.reshape([-1, 32, 32, 1])\n",
    "testing_letters_images_scaled = testing_letters_images_scaled.reshape([-1, 32, 32, 1])\n",
    "\n",
    "print(training_letters_images_scaled.shape, training_letters_labels_encoded.shape, testing_letters_images_scaled.shape, testing_letters_labels_encoded.shape)\n"
   ]
  },
  {
   "cell_type": "markdown",
   "metadata": {
    "id": "So_z_uymIB3S"
   },
   "source": [
    "**building The Model**"
   ]
  },
  {
   "cell_type": "code",
   "execution_count": null,
   "metadata": {
    "id": "LTAn6k0zIGgL"
   },
   "outputs": [],
   "source": [
    "from keras.models import Sequential\n",
    "from keras.layers import Conv2D, MaxPooling2D, GlobalAveragePooling2D, BatchNormalization, Dropout, Dense\n",
    "\n",
    "def create_model(optimizer='adam', kernel_initializer='he_normal', activation='relu'):\n",
    "    # create model\n",
    "    model = Sequential()\n",
    "    model.add(Conv2D(filters=16, kernel_size=3, padding='same', input_shape=(32, 32, 1), kernel_initializer=kernel_initializer, activation=activation))\n",
    "    model.add(BatchNormalization())\n",
    "    model.add(MaxPooling2D(pool_size=2))\n",
    "    model.add(Dropout(0.2))\n",
    "\n",
    "    model.add(Conv2D(filters=32, kernel_size=3, padding='same', kernel_initializer=kernel_initializer, activation=activation))\n",
    "    model.add(BatchNormalization())\n",
    "    model.add(MaxPooling2D(pool_size=2))\n",
    "    model.add(Dropout(0.2))\n",
    "\n",
    "    model.add(Conv2D(filters=64, kernel_size=3, padding='same', kernel_initializer=kernel_initializer, activation=activation))\n",
    "    model.add(BatchNormalization())\n",
    "    model.add(MaxPooling2D(pool_size=2))\n",
    "    model.add(Dropout(0.2))\n",
    "\n",
    "    model.add(Conv2D(filters=128, kernel_size=3, padding='same', kernel_initializer=kernel_initializer, activation=activation))\n",
    "    model.add(BatchNormalization())\n",
    "    model.add(MaxPooling2D(pool_size=2))\n",
    "    model.add(Dropout(0.2))\n",
    "    model.add(GlobalAveragePooling2D())\n",
    "\n",
    "    #Fully connected final layer\n",
    "    model.add(Dense(28, activation='softmax'))\n",
    "\n",
    "    # Compile model\n",
    "    model.compile(loss='categorical_crossentropy', metrics=['accuracy'], optimizer=optimizer)\n",
    "    return model"
   ]
  },
  {
   "cell_type": "code",
   "execution_count": null,
   "metadata": {
    "colab": {
     "base_uri": "https://localhost:8080/"
    },
    "id": "Q1eIU3ReJcAK",
    "outputId": "7a04f741-d260-4aa4-c772-1a1260254255"
   },
   "outputs": [
    {
     "name": "stdout",
     "output_type": "stream",
     "text": [
      "Model: \"sequential\"\n",
      "_________________________________________________________________\n",
      " Layer (type)                Output Shape              Param #   \n",
      "=================================================================\n",
      " conv2d (Conv2D)             (None, 32, 32, 16)        160       \n",
      "                                                                 \n",
      " batch_normalization (BatchN  (None, 32, 32, 16)       64        \n",
      " ormalization)                                                   \n",
      "                                                                 \n",
      " max_pooling2d (MaxPooling2D  (None, 16, 16, 16)       0         \n",
      " )                                                               \n",
      "                                                                 \n",
      " dropout (Dropout)           (None, 16, 16, 16)        0         \n",
      "                                                                 \n",
      " conv2d_1 (Conv2D)           (None, 16, 16, 32)        4640      \n",
      "                                                                 \n",
      " batch_normalization_1 (Batc  (None, 16, 16, 32)       128       \n",
      " hNormalization)                                                 \n",
      "                                                                 \n",
      " max_pooling2d_1 (MaxPooling  (None, 8, 8, 32)         0         \n",
      " 2D)                                                             \n",
      "                                                                 \n",
      " dropout_1 (Dropout)         (None, 8, 8, 32)          0         \n",
      "                                                                 \n",
      " conv2d_2 (Conv2D)           (None, 8, 8, 64)          18496     \n",
      "                                                                 \n",
      " batch_normalization_2 (Batc  (None, 8, 8, 64)         256       \n",
      " hNormalization)                                                 \n",
      "                                                                 \n",
      " max_pooling2d_2 (MaxPooling  (None, 4, 4, 64)         0         \n",
      " 2D)                                                             \n",
      "                                                                 \n",
      " dropout_2 (Dropout)         (None, 4, 4, 64)          0         \n",
      "                                                                 \n",
      " conv2d_3 (Conv2D)           (None, 4, 4, 128)         73856     \n",
      "                                                                 \n",
      " batch_normalization_3 (Batc  (None, 4, 4, 128)        512       \n",
      " hNormalization)                                                 \n",
      "                                                                 \n",
      " max_pooling2d_3 (MaxPooling  (None, 2, 2, 128)        0         \n",
      " 2D)                                                             \n",
      "                                                                 \n",
      " dropout_3 (Dropout)         (None, 2, 2, 128)         0         \n",
      "                                                                 \n",
      " global_average_pooling2d (G  (None, 128)              0         \n",
      " lobalAveragePooling2D)                                          \n",
      "                                                                 \n",
      " dense (Dense)               (None, 28)                3612      \n",
      "                                                                 \n",
      "=================================================================\n",
      "Total params: 101,724\n",
      "Trainable params: 101,244\n",
      "Non-trainable params: 480\n",
      "_________________________________________________________________\n"
     ]
    }
   ],
   "source": [
    "model = create_model()\n",
    "model.summary()"
   ]
  },
  {
   "cell_type": "code",
   "execution_count": null,
   "metadata": {
    "id": "rurhteOwJegf"
   },
   "outputs": [],
   "source": [
    "# import pydot\n",
    "# from tensorflow.keras.utils import plot_model\n",
    "\n",
    "# plot_model(model, to_file=\"model.png\", show_shapes=True)\n",
    "# from IPython.display import Image as IPythonImage\n",
    "# display(IPythonImage('model.png'))"
   ]
  },
  {
   "cell_type": "code",
   "execution_count": null,
   "metadata": {
    "id": "p-vNZ_6TJuO6"
   },
   "outputs": [],
   "source": [
    "# fix random seed for reproducibility\n",
    "seed = 7\n",
    "np.random.seed(seed)\n",
    "\n",
    "# define the grid search parameters\n",
    "optimizer = ['RMSprop', 'Adam', 'Adagrad', 'Nadam']\n",
    "kernel_initializer = ['normal', 'uniform']\n",
    "activation = ['relu', 'linear', 'tanh']\n",
    "\n",
    "param_grid = dict(optimizer=optimizer, kernel_initializer=kernel_initializer, activation=activation)\n"
   ]
  },
  {
   "cell_type": "code",
   "execution_count": null,
   "metadata": {
    "colab": {
     "base_uri": "https://localhost:8080/"
    },
    "id": "xRj4JNhIK1Ou",
    "outputId": "517a44ee-3dc2-4637-879c-8966a0d8ddf5"
   },
   "outputs": [
    {
     "name": "stdout",
     "output_type": "stream",
     "text": [
      "(13440, 32, 32, 1)\n",
      "(13440, 28)\n"
     ]
    }
   ],
   "source": [
    "print(training_letters_images_scaled.shape)\n",
    "print(training_letters_labels_encoded.shape)"
   ]
  },
  {
   "cell_type": "code",
   "execution_count": null,
   "metadata": {
    "colab": {
     "base_uri": "https://localhost:8080/"
    },
    "id": "IC_TczrWKMei",
    "outputId": "54d4b165-2ae0-4333-9e81-205ec0879c45"
   },
   "outputs": [
    {
     "name": "stdout",
     "output_type": "stream",
     "text": [
      "{'optimizer': 'RMSprop', 'kernel_initializer': 'normal', 'activation': 'relu'}\n",
      "Epoch 1/5\n",
      "672/672 [==============================] - 9s 9ms/step - loss: 1.4273 - accuracy: 0.5528 - val_loss: 1.7163 - val_accuracy: 0.4113\n",
      "Epoch 2/5\n",
      "672/672 [==============================] - 6s 9ms/step - loss: 0.5308 - accuracy: 0.8211 - val_loss: 0.6634 - val_accuracy: 0.7821\n",
      "Epoch 3/5\n",
      "672/672 [==============================] - 6s 9ms/step - loss: 0.3944 - accuracy: 0.8689 - val_loss: 0.3706 - val_accuracy: 0.8667\n",
      "Epoch 4/5\n",
      "672/672 [==============================] - 6s 9ms/step - loss: 0.3336 - accuracy: 0.8906 - val_loss: 0.2453 - val_accuracy: 0.9226\n",
      "Epoch 5/5\n",
      "672/672 [==============================] - 6s 9ms/step - loss: 0.2936 - accuracy: 0.9010 - val_loss: 0.3022 - val_accuracy: 0.8994\n",
      "=============================================================================\n",
      "{'optimizer': 'RMSprop', 'kernel_initializer': 'uniform', 'activation': 'relu'}\n",
      "Epoch 1/5\n",
      "672/672 [==============================] - 8s 9ms/step - loss: 1.2369 - accuracy: 0.6127 - val_loss: 0.6862 - val_accuracy: 0.7661\n",
      "Epoch 2/5\n",
      "672/672 [==============================] - 7s 10ms/step - loss: 0.4663 - accuracy: 0.8443 - val_loss: 0.2973 - val_accuracy: 0.8940\n",
      "Epoch 3/5\n",
      "672/672 [==============================] - 6s 10ms/step - loss: 0.3544 - accuracy: 0.8846 - val_loss: 0.5822 - val_accuracy: 0.8310\n",
      "Epoch 4/5\n",
      "672/672 [==============================] - 6s 9ms/step - loss: 0.2981 - accuracy: 0.9042 - val_loss: 0.3850 - val_accuracy: 0.8836\n",
      "Epoch 5/5\n",
      "672/672 [==============================] - 6s 9ms/step - loss: 0.2648 - accuracy: 0.9115 - val_loss: 0.2369 - val_accuracy: 0.9265\n",
      "=============================================================================\n",
      "{'optimizer': 'RMSprop', 'kernel_initializer': 'normal', 'activation': 'linear'}\n",
      "Epoch 1/5\n",
      "672/672 [==============================] - 8s 9ms/step - loss: 1.7475 - accuracy: 0.4611 - val_loss: 4.5607 - val_accuracy: 0.0964\n",
      "Epoch 2/5\n",
      "672/672 [==============================] - 6s 9ms/step - loss: 0.7931 - accuracy: 0.7443 - val_loss: 0.6370 - val_accuracy: 0.7824\n",
      "Epoch 3/5\n",
      "672/672 [==============================] - 6s 10ms/step - loss: 0.5734 - accuracy: 0.8111 - val_loss: 1.6853 - val_accuracy: 0.5595\n",
      "Epoch 4/5\n",
      "672/672 [==============================] - 6s 9ms/step - loss: 0.4610 - accuracy: 0.8440 - val_loss: 0.8755 - val_accuracy: 0.7312\n",
      "Epoch 5/5\n",
      "672/672 [==============================] - 6s 9ms/step - loss: 0.4097 - accuracy: 0.8586 - val_loss: 0.6037 - val_accuracy: 0.8074\n",
      "=============================================================================\n",
      "{'optimizer': 'RMSprop', 'kernel_initializer': 'uniform', 'activation': 'linear'}\n",
      "Epoch 1/5\n",
      "672/672 [==============================] - 8s 9ms/step - loss: 1.5353 - accuracy: 0.5327 - val_loss: 4.2461 - val_accuracy: 0.1372\n",
      "Epoch 2/5\n",
      "672/672 [==============================] - 7s 10ms/step - loss: 0.6630 - accuracy: 0.7886 - val_loss: 2.9983 - val_accuracy: 0.3500\n",
      "Epoch 3/5\n",
      "672/672 [==============================] - 6s 9ms/step - loss: 0.4896 - accuracy: 0.8360 - val_loss: 0.5531 - val_accuracy: 0.8205\n",
      "Epoch 4/5\n",
      "672/672 [==============================] - 6s 9ms/step - loss: 0.4138 - accuracy: 0.8600 - val_loss: 0.7630 - val_accuracy: 0.7646\n",
      "Epoch 5/5\n",
      "672/672 [==============================] - 6s 9ms/step - loss: 0.3628 - accuracy: 0.8814 - val_loss: 0.8585 - val_accuracy: 0.7458\n",
      "=============================================================================\n",
      "{'optimizer': 'RMSprop', 'kernel_initializer': 'normal', 'activation': 'tanh'}\n",
      "Epoch 1/5\n",
      "672/672 [==============================] - 8s 9ms/step - loss: 1.9208 - accuracy: 0.4107 - val_loss: 12.4915 - val_accuracy: 0.0393\n",
      "Epoch 2/5\n",
      "672/672 [==============================] - 6s 9ms/step - loss: 0.8722 - accuracy: 0.7116 - val_loss: 6.3361 - val_accuracy: 0.1696\n",
      "Epoch 3/5\n",
      "672/672 [==============================] - 6s 9ms/step - loss: 0.6488 - accuracy: 0.7808 - val_loss: 6.9076 - val_accuracy: 0.1140\n",
      "Epoch 4/5\n",
      "672/672 [==============================] - 6s 9ms/step - loss: 0.5438 - accuracy: 0.8223 - val_loss: 2.0461 - val_accuracy: 0.4985\n",
      "Epoch 5/5\n",
      "672/672 [==============================] - 6s 9ms/step - loss: 0.4856 - accuracy: 0.8373 - val_loss: 2.4408 - val_accuracy: 0.4286\n",
      "=============================================================================\n",
      "{'optimizer': 'RMSprop', 'kernel_initializer': 'uniform', 'activation': 'tanh'}\n",
      "Epoch 1/5\n",
      "672/672 [==============================] - 8s 10ms/step - loss: 1.5762 - accuracy: 0.5123 - val_loss: 7.6147 - val_accuracy: 0.1238\n",
      "Epoch 2/5\n",
      "672/672 [==============================] - 6s 9ms/step - loss: 0.6470 - accuracy: 0.7843 - val_loss: 5.4840 - val_accuracy: 0.2440\n",
      "Epoch 3/5\n",
      "672/672 [==============================] - 6s 9ms/step - loss: 0.5138 - accuracy: 0.8275 - val_loss: 5.6553 - val_accuracy: 0.1908\n",
      "Epoch 4/5\n",
      "672/672 [==============================] - 6s 9ms/step - loss: 0.4443 - accuracy: 0.8499 - val_loss: 2.9901 - val_accuracy: 0.4440\n",
      "Epoch 5/5\n",
      "672/672 [==============================] - 6s 9ms/step - loss: 0.3964 - accuracy: 0.8673 - val_loss: 2.3018 - val_accuracy: 0.4926\n",
      "=============================================================================\n",
      "{'optimizer': 'Adam', 'kernel_initializer': 'normal', 'activation': 'relu'}\n",
      "Epoch 1/5\n",
      "672/672 [==============================] - 6s 8ms/step - loss: 1.5347 - accuracy: 0.5304 - val_loss: 1.7311 - val_accuracy: 0.4330\n",
      "Epoch 2/5\n",
      "672/672 [==============================] - 5s 8ms/step - loss: 0.5945 - accuracy: 0.8067 - val_loss: 0.7538 - val_accuracy: 0.7619\n",
      "Epoch 3/5\n",
      "672/672 [==============================] - 5s 8ms/step - loss: 0.4140 - accuracy: 0.8654 - val_loss: 0.5204 - val_accuracy: 0.8449\n",
      "Epoch 4/5\n",
      "672/672 [==============================] - 5s 8ms/step - loss: 0.3282 - accuracy: 0.8938 - val_loss: 0.2664 - val_accuracy: 0.9199\n",
      "Epoch 5/5\n",
      "672/672 [==============================] - 5s 8ms/step - loss: 0.3007 - accuracy: 0.8987 - val_loss: 0.2180 - val_accuracy: 0.9339\n",
      "=============================================================================\n",
      "{'optimizer': 'Adam', 'kernel_initializer': 'uniform', 'activation': 'relu'}\n",
      "Epoch 1/5\n",
      "672/672 [==============================] - 7s 8ms/step - loss: 1.4114 - accuracy: 0.5641 - val_loss: 0.6569 - val_accuracy: 0.7937\n",
      "Epoch 2/5\n",
      "672/672 [==============================] - 5s 8ms/step - loss: 0.5490 - accuracy: 0.8193 - val_loss: 0.2877 - val_accuracy: 0.9128\n",
      "Epoch 3/5\n",
      "672/672 [==============================] - 5s 8ms/step - loss: 0.3790 - accuracy: 0.8734 - val_loss: 1.2012 - val_accuracy: 0.6351\n",
      "Epoch 4/5\n",
      "672/672 [==============================] - 5s 8ms/step - loss: 0.3139 - accuracy: 0.8978 - val_loss: 0.4054 - val_accuracy: 0.8557\n",
      "Epoch 5/5\n",
      "672/672 [==============================] - 5s 8ms/step - loss: 0.2786 - accuracy: 0.9086 - val_loss: 0.2644 - val_accuracy: 0.9202\n",
      "=============================================================================\n",
      "{'optimizer': 'Adam', 'kernel_initializer': 'normal', 'activation': 'linear'}\n",
      "Epoch 1/5\n",
      "672/672 [==============================] - 6s 8ms/step - loss: 1.9134 - accuracy: 0.4305 - val_loss: 6.2817 - val_accuracy: 0.0839\n",
      "Epoch 2/5\n",
      "672/672 [==============================] - 5s 8ms/step - loss: 0.8176 - accuracy: 0.7440 - val_loss: 0.5391 - val_accuracy: 0.8229\n",
      "Epoch 3/5\n",
      "672/672 [==============================] - 5s 8ms/step - loss: 0.5873 - accuracy: 0.8138 - val_loss: 0.3467 - val_accuracy: 0.8902\n",
      "Epoch 4/5\n",
      "672/672 [==============================] - 5s 7ms/step - loss: 0.4755 - accuracy: 0.8449 - val_loss: 0.8198 - val_accuracy: 0.7321\n",
      "Epoch 5/5\n",
      "672/672 [==============================] - 5s 8ms/step - loss: 0.4046 - accuracy: 0.8711 - val_loss: 0.6116 - val_accuracy: 0.7696\n",
      "=============================================================================\n",
      "{'optimizer': 'Adam', 'kernel_initializer': 'uniform', 'activation': 'linear'}\n",
      "Epoch 1/5\n",
      "672/672 [==============================] - 6s 8ms/step - loss: 1.6032 - accuracy: 0.5138 - val_loss: 4.6928 - val_accuracy: 0.1018\n",
      "Epoch 2/5\n",
      "672/672 [==============================] - 5s 8ms/step - loss: 0.6892 - accuracy: 0.7827 - val_loss: 0.7900 - val_accuracy: 0.7280\n",
      "Epoch 3/5\n",
      "672/672 [==============================] - 5s 7ms/step - loss: 0.5132 - accuracy: 0.8395 - val_loss: 0.6512 - val_accuracy: 0.7973\n",
      "Epoch 4/5\n",
      "672/672 [==============================] - 5s 8ms/step - loss: 0.4146 - accuracy: 0.8643 - val_loss: 0.3497 - val_accuracy: 0.8845\n",
      "Epoch 5/5\n",
      "672/672 [==============================] - 5s 8ms/step - loss: 0.3664 - accuracy: 0.8804 - val_loss: 0.2236 - val_accuracy: 0.9339\n",
      "=============================================================================\n",
      "{'optimizer': 'Adam', 'kernel_initializer': 'normal', 'activation': 'tanh'}\n",
      "Epoch 1/5\n",
      "672/672 [==============================] - 6s 8ms/step - loss: 2.1232 - accuracy: 0.3618 - val_loss: 10.2889 - val_accuracy: 0.0372\n",
      "Epoch 2/5\n",
      "672/672 [==============================] - 5s 8ms/step - loss: 0.9692 - accuracy: 0.6836 - val_loss: 5.9568 - val_accuracy: 0.1080\n",
      "Epoch 3/5\n",
      "672/672 [==============================] - 5s 8ms/step - loss: 0.6763 - accuracy: 0.7762 - val_loss: 6.0090 - val_accuracy: 0.0893\n",
      "Epoch 4/5\n",
      "672/672 [==============================] - 5s 8ms/step - loss: 0.5525 - accuracy: 0.8170 - val_loss: 4.1376 - val_accuracy: 0.1943\n",
      "Epoch 5/5\n",
      "672/672 [==============================] - 8s 12ms/step - loss: 0.4923 - accuracy: 0.8375 - val_loss: 0.9982 - val_accuracy: 0.6863\n",
      "=============================================================================\n",
      "{'optimizer': 'Adam', 'kernel_initializer': 'uniform', 'activation': 'tanh'}\n",
      "Epoch 1/5\n",
      "672/672 [==============================] - 7s 8ms/step - loss: 1.6628 - accuracy: 0.4945 - val_loss: 7.3794 - val_accuracy: 0.0512\n",
      "Epoch 2/5\n",
      "672/672 [==============================] - 5s 8ms/step - loss: 0.6859 - accuracy: 0.7795 - val_loss: 7.5764 - val_accuracy: 0.0458\n",
      "Epoch 3/5\n",
      "672/672 [==============================] - 5s 8ms/step - loss: 0.5086 - accuracy: 0.8307 - val_loss: 0.9383 - val_accuracy: 0.7211\n",
      "Epoch 4/5\n",
      "672/672 [==============================] - 5s 8ms/step - loss: 0.4326 - accuracy: 0.8596 - val_loss: 4.5180 - val_accuracy: 0.1360\n",
      "Epoch 5/5\n",
      "672/672 [==============================] - 5s 8ms/step - loss: 0.3798 - accuracy: 0.8747 - val_loss: 1.1394 - val_accuracy: 0.6622\n",
      "=============================================================================\n",
      "{'optimizer': 'Adagrad', 'kernel_initializer': 'normal', 'activation': 'relu'}\n",
      "Epoch 1/5\n",
      "672/672 [==============================] - 6s 8ms/step - loss: 3.3142 - accuracy: 0.1090 - val_loss: 2.8908 - val_accuracy: 0.1774\n",
      "Epoch 2/5\n",
      "672/672 [==============================] - 5s 8ms/step - loss: 2.8020 - accuracy: 0.1921 - val_loss: 2.4117 - val_accuracy: 0.3458\n",
      "Epoch 3/5\n",
      "672/672 [==============================] - 5s 8ms/step - loss: 2.5724 - accuracy: 0.2379 - val_loss: 2.2149 - val_accuracy: 0.3997\n",
      "Epoch 4/5\n",
      "672/672 [==============================] - 5s 8ms/step - loss: 2.4086 - accuracy: 0.2802 - val_loss: 2.0595 - val_accuracy: 0.4435\n",
      "Epoch 5/5\n",
      "672/672 [==============================] - 5s 8ms/step - loss: 2.2816 - accuracy: 0.3101 - val_loss: 1.9324 - val_accuracy: 0.4821\n",
      "=============================================================================\n",
      "{'optimizer': 'Adagrad', 'kernel_initializer': 'uniform', 'activation': 'relu'}\n",
      "Epoch 1/5\n",
      "672/672 [==============================] - 6s 8ms/step - loss: 2.9581 - accuracy: 0.1612 - val_loss: 2.8784 - val_accuracy: 0.1378\n",
      "Epoch 2/5\n",
      "672/672 [==============================] - 5s 8ms/step - loss: 2.3883 - accuracy: 0.2860 - val_loss: 1.9321 - val_accuracy: 0.4625\n",
      "Epoch 3/5\n",
      "672/672 [==============================] - 5s 8ms/step - loss: 2.0906 - accuracy: 0.3617 - val_loss: 1.6427 - val_accuracy: 0.5423\n",
      "Epoch 4/5\n",
      "672/672 [==============================] - 5s 8ms/step - loss: 1.8622 - accuracy: 0.4241 - val_loss: 1.4386 - val_accuracy: 0.6065\n",
      "Epoch 5/5\n",
      "672/672 [==============================] - 5s 8ms/step - loss: 1.7031 - accuracy: 0.4760 - val_loss: 1.2925 - val_accuracy: 0.6521\n",
      "=============================================================================\n",
      "{'optimizer': 'Adagrad', 'kernel_initializer': 'normal', 'activation': 'linear'}\n",
      "Epoch 1/5\n",
      "672/672 [==============================] - 6s 8ms/step - loss: 3.2749 - accuracy: 0.0798 - val_loss: 3.1394 - val_accuracy: 0.0902\n",
      "Epoch 2/5\n",
      "672/672 [==============================] - 5s 8ms/step - loss: 3.0167 - accuracy: 0.1258 - val_loss: 2.8249 - val_accuracy: 0.1946\n",
      "Epoch 3/5\n",
      "672/672 [==============================] - 5s 8ms/step - loss: 2.8866 - accuracy: 0.1597 - val_loss: 2.7220 - val_accuracy: 0.2226\n",
      "Epoch 4/5\n",
      "672/672 [==============================] - 6s 8ms/step - loss: 2.8086 - accuracy: 0.1829 - val_loss: 2.6345 - val_accuracy: 0.2399\n",
      "Epoch 5/5\n",
      "672/672 [==============================] - 5s 8ms/step - loss: 2.7278 - accuracy: 0.2041 - val_loss: 2.5546 - val_accuracy: 0.2604\n",
      "=============================================================================\n",
      "{'optimizer': 'Adagrad', 'kernel_initializer': 'uniform', 'activation': 'linear'}\n",
      "Epoch 1/5\n",
      "672/672 [==============================] - 6s 8ms/step - loss: 3.0844 - accuracy: 0.1258 - val_loss: 3.1445 - val_accuracy: 0.0786\n",
      "Epoch 2/5\n",
      "672/672 [==============================] - 5s 8ms/step - loss: 2.6778 - accuracy: 0.2211 - val_loss: 2.3954 - val_accuracy: 0.2961\n",
      "Epoch 3/5\n",
      "672/672 [==============================] - 5s 8ms/step - loss: 2.4056 - accuracy: 0.2958 - val_loss: 2.1306 - val_accuracy: 0.3571\n",
      "Epoch 4/5\n",
      "672/672 [==============================] - 5s 8ms/step - loss: 2.2250 - accuracy: 0.3400 - val_loss: 1.9552 - val_accuracy: 0.4268\n",
      "Epoch 5/5\n",
      "672/672 [==============================] - 5s 8ms/step - loss: 2.0988 - accuracy: 0.3823 - val_loss: 1.8425 - val_accuracy: 0.4560\n",
      "=============================================================================\n",
      "{'optimizer': 'Adagrad', 'kernel_initializer': 'normal', 'activation': 'tanh'}\n",
      "Epoch 1/5\n",
      "672/672 [==============================] - 6s 8ms/step - loss: 3.4085 - accuracy: 0.0586 - val_loss: 3.0450 - val_accuracy: 0.1381\n",
      "Epoch 2/5\n",
      "672/672 [==============================] - 5s 8ms/step - loss: 3.1232 - accuracy: 0.1103 - val_loss: 2.8467 - val_accuracy: 0.1943\n",
      "Epoch 3/5\n",
      "672/672 [==============================] - 5s 8ms/step - loss: 3.0083 - accuracy: 0.1336 - val_loss: 2.7252 - val_accuracy: 0.2253\n",
      "Epoch 4/5\n",
      "672/672 [==============================] - 5s 8ms/step - loss: 2.9139 - accuracy: 0.1600 - val_loss: 2.6287 - val_accuracy: 0.2485\n",
      "Epoch 5/5\n",
      "672/672 [==============================] - 5s 8ms/step - loss: 2.8410 - accuracy: 0.1790 - val_loss: 2.5524 - val_accuracy: 0.2661\n",
      "=============================================================================\n",
      "{'optimizer': 'Adagrad', 'kernel_initializer': 'uniform', 'activation': 'tanh'}\n",
      "Epoch 1/5\n",
      "672/672 [==============================] - 6s 8ms/step - loss: 3.1210 - accuracy: 0.1160 - val_loss: 2.8916 - val_accuracy: 0.1619\n",
      "Epoch 2/5\n",
      "672/672 [==============================] - 5s 8ms/step - loss: 2.6849 - accuracy: 0.2130 - val_loss: 2.2380 - val_accuracy: 0.3432\n",
      "Epoch 3/5\n",
      "672/672 [==============================] - 5s 8ms/step - loss: 2.4159 - accuracy: 0.2799 - val_loss: 1.9846 - val_accuracy: 0.4000\n",
      "Epoch 4/5\n",
      "672/672 [==============================] - 5s 8ms/step - loss: 2.2202 - accuracy: 0.3262 - val_loss: 1.8035 - val_accuracy: 0.4554\n",
      "Epoch 5/5\n",
      "672/672 [==============================] - 5s 8ms/step - loss: 2.0711 - accuracy: 0.3682 - val_loss: 1.6680 - val_accuracy: 0.4914\n",
      "=============================================================================\n",
      "{'optimizer': 'Nadam', 'kernel_initializer': 'normal', 'activation': 'relu'}\n",
      "Epoch 1/5\n",
      "672/672 [==============================] - 10s 12ms/step - loss: 1.5425 - accuracy: 0.5227 - val_loss: 1.7185 - val_accuracy: 0.4750\n",
      "Epoch 2/5\n",
      "672/672 [==============================] - 7s 11ms/step - loss: 0.5749 - accuracy: 0.8165 - val_loss: 0.3371 - val_accuracy: 0.8952\n",
      "Epoch 3/5\n",
      "672/672 [==============================] - 7s 11ms/step - loss: 0.4139 - accuracy: 0.8651 - val_loss: 0.5382 - val_accuracy: 0.7905\n",
      "Epoch 4/5\n",
      "672/672 [==============================] - 7s 11ms/step - loss: 0.3335 - accuracy: 0.8932 - val_loss: 0.2802 - val_accuracy: 0.9051\n",
      "Epoch 5/5\n",
      "672/672 [==============================] - 7s 11ms/step - loss: 0.2780 - accuracy: 0.9077 - val_loss: 0.2078 - val_accuracy: 0.9339\n",
      "=============================================================================\n",
      "{'optimizer': 'Nadam', 'kernel_initializer': 'uniform', 'activation': 'relu'}\n",
      "Epoch 1/5\n",
      "672/672 [==============================] - 10s 11ms/step - loss: 1.3439 - accuracy: 0.5969 - val_loss: 0.5838 - val_accuracy: 0.8271\n",
      "Epoch 2/5\n",
      "672/672 [==============================] - 7s 11ms/step - loss: 0.4805 - accuracy: 0.8481 - val_loss: 0.4866 - val_accuracy: 0.8473\n",
      "Epoch 3/5\n",
      "672/672 [==============================] - 8s 11ms/step - loss: 0.3748 - accuracy: 0.8774 - val_loss: 0.3969 - val_accuracy: 0.8717\n",
      "Epoch 4/5\n",
      "672/672 [==============================] - 7s 11ms/step - loss: 0.3037 - accuracy: 0.9012 - val_loss: 0.3217 - val_accuracy: 0.9036\n",
      "Epoch 5/5\n",
      "672/672 [==============================] - 8s 11ms/step - loss: 0.2629 - accuracy: 0.9137 - val_loss: 1.0709 - val_accuracy: 0.6461\n",
      "=============================================================================\n",
      "{'optimizer': 'Nadam', 'kernel_initializer': 'normal', 'activation': 'linear'}\n",
      "Epoch 1/5\n",
      "672/672 [==============================] - 10s 11ms/step - loss: 1.7784 - accuracy: 0.4675 - val_loss: 4.4096 - val_accuracy: 0.1399\n",
      "Epoch 2/5\n",
      "672/672 [==============================] - 8s 11ms/step - loss: 0.7922 - accuracy: 0.7516 - val_loss: 0.4900 - val_accuracy: 0.8435\n",
      "Epoch 3/5\n",
      "672/672 [==============================] - 8s 11ms/step - loss: 0.5621 - accuracy: 0.8181 - val_loss: 1.5091 - val_accuracy: 0.5699\n",
      "Epoch 4/5\n",
      "672/672 [==============================] - 7s 11ms/step - loss: 0.4601 - accuracy: 0.8493 - val_loss: 0.4863 - val_accuracy: 0.8310\n",
      "Epoch 5/5\n",
      "672/672 [==============================] - 7s 11ms/step - loss: 0.3939 - accuracy: 0.8719 - val_loss: 0.4495 - val_accuracy: 0.8443\n",
      "=============================================================================\n",
      "{'optimizer': 'Nadam', 'kernel_initializer': 'uniform', 'activation': 'linear'}\n",
      "Epoch 1/5\n",
      "672/672 [==============================] - 10s 11ms/step - loss: 1.6114 - accuracy: 0.5103 - val_loss: 1.2842 - val_accuracy: 0.5943\n",
      "Epoch 2/5\n",
      "672/672 [==============================] - 8s 11ms/step - loss: 0.6855 - accuracy: 0.7838 - val_loss: 1.0827 - val_accuracy: 0.6333\n",
      "Epoch 3/5\n",
      "672/672 [==============================] - 7s 11ms/step - loss: 0.5066 - accuracy: 0.8382 - val_loss: 0.6019 - val_accuracy: 0.7961\n",
      "Epoch 4/5\n",
      "672/672 [==============================] - 7s 11ms/step - loss: 0.4239 - accuracy: 0.8626 - val_loss: 0.9271 - val_accuracy: 0.7137\n",
      "Epoch 5/5\n",
      "672/672 [==============================] - 8s 11ms/step - loss: 0.3662 - accuracy: 0.8815 - val_loss: 0.2927 - val_accuracy: 0.8970\n",
      "=============================================================================\n",
      "{'optimizer': 'Nadam', 'kernel_initializer': 'normal', 'activation': 'tanh'}\n",
      "Epoch 1/5\n",
      "672/672 [==============================] - 10s 12ms/step - loss: 2.0963 - accuracy: 0.3718 - val_loss: 9.9613 - val_accuracy: 0.0518\n",
      "Epoch 2/5\n",
      "672/672 [==============================] - 8s 11ms/step - loss: 0.9029 - accuracy: 0.7097 - val_loss: 9.7235 - val_accuracy: 0.0670\n",
      "Epoch 3/5\n",
      "672/672 [==============================] - 8s 11ms/step - loss: 0.6511 - accuracy: 0.7872 - val_loss: 5.3624 - val_accuracy: 0.1574\n",
      "Epoch 4/5\n",
      "672/672 [==============================] - 7s 11ms/step - loss: 0.5382 - accuracy: 0.8203 - val_loss: 5.7979 - val_accuracy: 0.0943\n",
      "Epoch 5/5\n",
      "672/672 [==============================] - 7s 11ms/step - loss: 0.4754 - accuracy: 0.8399 - val_loss: 1.7592 - val_accuracy: 0.4911\n",
      "=============================================================================\n",
      "{'optimizer': 'Nadam', 'kernel_initializer': 'uniform', 'activation': 'tanh'}\n",
      "Epoch 1/5\n",
      "672/672 [==============================] - 10s 12ms/step - loss: 1.5930 - accuracy: 0.5173 - val_loss: 11.6117 - val_accuracy: 0.0363\n",
      "Epoch 2/5\n",
      "672/672 [==============================] - 8s 11ms/step - loss: 0.6645 - accuracy: 0.7795 - val_loss: 6.6894 - val_accuracy: 0.1604\n",
      "Epoch 3/5\n",
      "672/672 [==============================] - 8s 11ms/step - loss: 0.5049 - accuracy: 0.8377 - val_loss: 7.1702 - val_accuracy: 0.1339\n",
      "Epoch 4/5\n",
      "672/672 [==============================] - 8s 11ms/step - loss: 0.4240 - accuracy: 0.8609 - val_loss: 2.4762 - val_accuracy: 0.3878\n",
      "Epoch 5/5\n",
      "672/672 [==============================] - 8s 11ms/step - loss: 0.3888 - accuracy: 0.8733 - val_loss: 1.8308 - val_accuracy: 0.5735\n",
      "=============================================================================\n"
     ]
    }
   ],
   "source": [
    "# epochs = 5\n",
    "# batch_size = 20 # 20 divides the training data samples\n",
    "\n",
    "# #creating the models with different hyperparameters\n",
    "# for a,b,c in [(x,y,z) for x in optimizer for z in activation for y in kernel_initializer]:\n",
    "#     params = {'optimizer' : a , 'kernel_initializer' : b , 'activation' : c}\n",
    "#     print(params)\n",
    "#     curr_model = create_model(a, b, c)\n",
    "#     curr_model.fit(training_letters_images_scaled, training_letters_labels_encoded, \n",
    "#                     validation_data=(testing_letters_images_scaled, testing_letters_labels_encoded),\n",
    "#                     epochs=epochs, batch_size=batch_size, verbose=1)\n",
    "#     print(\"=============================================================================\")"
   ]
  },
  {
   "cell_type": "markdown",
   "metadata": {
    "id": "9W084dFTQUbc"
   },
   "source": [
    "From the above results we can see that best parameters are:\n",
    "\n",
    "Optimizer: Adam\n",
    "\n",
    "Kernel_initializer: uniform\n",
    "\n",
    "Activation: relu"
   ]
  },
  {
   "cell_type": "code",
   "execution_count": null,
   "metadata": {
    "id": "Y-dfL5-6QRvC"
   },
   "outputs": [],
   "source": [
    "model = create_model(optimizer='Adam', kernel_initializer='uniform', activation='relu')\n"
   ]
  },
  {
   "cell_type": "markdown",
   "metadata": {
    "id": "5mMoFEo1R4cu"
   },
   "source": [
    "**Model Training**"
   ]
  },
  {
   "cell_type": "code",
   "execution_count": null,
   "metadata": {
    "colab": {
     "base_uri": "https://localhost:8080/"
    },
    "id": "WVJdCiehSC7K",
    "outputId": "e2c9180b-90e6-4b57-dd79-4439a8870be1"
   },
   "outputs": [
    {
     "name": "stdout",
     "output_type": "stream",
     "text": [
      "Epoch 1/40\n",
      "443/448 [============================>.] - ETA: 0s - loss: 1.4029 - accuracy: 0.5727\n",
      "Epoch 1: val_loss improved from inf to 6.53169, saving model to weights.hdf5\n",
      "448/448 [==============================] - 5s 9ms/step - loss: 1.3942 - accuracy: 0.5751 - val_loss: 6.5317 - val_accuracy: 0.0384\n",
      "Epoch 2/40\n",
      "443/448 [============================>.] - ETA: 0s - loss: 0.5251 - accuracy: 0.8318\n",
      "Epoch 2: val_loss improved from 6.53169 to 1.04839, saving model to weights.hdf5\n",
      "448/448 [==============================] - 4s 8ms/step - loss: 0.5234 - accuracy: 0.8321 - val_loss: 1.0484 - val_accuracy: 0.6595\n",
      "Epoch 3/40\n",
      "445/448 [============================>.] - ETA: 0s - loss: 0.3917 - accuracy: 0.8755\n",
      "Epoch 3: val_loss improved from 1.04839 to 0.42086, saving model to weights.hdf5\n",
      "448/448 [==============================] - 4s 8ms/step - loss: 0.3912 - accuracy: 0.8757 - val_loss: 0.4209 - val_accuracy: 0.8753\n",
      "Epoch 4/40\n",
      "445/448 [============================>.] - ETA: 0s - loss: 0.3219 - accuracy: 0.8966\n",
      "Epoch 4: val_loss improved from 0.42086 to 0.30852, saving model to weights.hdf5\n",
      "448/448 [==============================] - 4s 9ms/step - loss: 0.3218 - accuracy: 0.8967 - val_loss: 0.3085 - val_accuracy: 0.9003\n",
      "Epoch 5/40\n",
      "447/448 [============================>.] - ETA: 0s - loss: 0.2926 - accuracy: 0.9048\n",
      "Epoch 5: val_loss did not improve from 0.30852\n",
      "448/448 [==============================] - 4s 9ms/step - loss: 0.2927 - accuracy: 0.9048 - val_loss: 0.5839 - val_accuracy: 0.8190\n",
      "Epoch 6/40\n",
      "448/448 [==============================] - ETA: 0s - loss: 0.2534 - accuracy: 0.9158\n",
      "Epoch 6: val_loss improved from 0.30852 to 0.19847, saving model to weights.hdf5\n",
      "448/448 [==============================] - 4s 8ms/step - loss: 0.2534 - accuracy: 0.9158 - val_loss: 0.1985 - val_accuracy: 0.9357\n",
      "Epoch 7/40\n",
      "446/448 [============================>.] - ETA: 0s - loss: 0.2361 - accuracy: 0.9229\n",
      "Epoch 7: val_loss did not improve from 0.19847\n",
      "448/448 [==============================] - 4s 9ms/step - loss: 0.2367 - accuracy: 0.9226 - val_loss: 0.9543 - val_accuracy: 0.6812\n",
      "Epoch 8/40\n",
      "445/448 [============================>.] - ETA: 0s - loss: 0.2253 - accuracy: 0.9246\n",
      "Epoch 8: val_loss did not improve from 0.19847\n",
      "448/448 [==============================] - 4s 9ms/step - loss: 0.2250 - accuracy: 0.9247 - val_loss: 0.2338 - val_accuracy: 0.9226\n",
      "Epoch 9/40\n",
      "443/448 [============================>.] - ETA: 0s - loss: 0.2126 - accuracy: 0.9308\n",
      "Epoch 9: val_loss improved from 0.19847 to 0.13872, saving model to weights.hdf5\n",
      "448/448 [==============================] - 4s 9ms/step - loss: 0.2121 - accuracy: 0.9310 - val_loss: 0.1387 - val_accuracy: 0.9577\n",
      "Epoch 10/40\n",
      "447/448 [============================>.] - ETA: 0s - loss: 0.1867 - accuracy: 0.9401\n",
      "Epoch 10: val_loss did not improve from 0.13872\n",
      "448/448 [==============================] - 4s 9ms/step - loss: 0.1866 - accuracy: 0.9401 - val_loss: 0.5495 - val_accuracy: 0.8396\n",
      "Epoch 11/40\n",
      "445/448 [============================>.] - ETA: 0s - loss: 0.1820 - accuracy: 0.9380\n",
      "Epoch 11: val_loss did not improve from 0.13872\n",
      "448/448 [==============================] - 4s 8ms/step - loss: 0.1825 - accuracy: 0.9379 - val_loss: 0.1426 - val_accuracy: 0.9551\n",
      "Epoch 12/40\n",
      "446/448 [============================>.] - ETA: 0s - loss: 0.1825 - accuracy: 0.9405\n",
      "Epoch 12: val_loss did not improve from 0.13872\n",
      "448/448 [==============================] - 4s 9ms/step - loss: 0.1825 - accuracy: 0.9406 - val_loss: 0.6154 - val_accuracy: 0.8271\n",
      "Epoch 13/40\n",
      "442/448 [============================>.] - ETA: 0s - loss: 0.1756 - accuracy: 0.9393\n",
      "Epoch 13: val_loss did not improve from 0.13872\n",
      "448/448 [==============================] - 4s 8ms/step - loss: 0.1754 - accuracy: 0.9394 - val_loss: 0.2231 - val_accuracy: 0.9304\n",
      "Epoch 14/40\n",
      "448/448 [==============================] - ETA: 0s - loss: 0.1633 - accuracy: 0.9436\n",
      "Epoch 14: val_loss did not improve from 0.13872\n",
      "448/448 [==============================] - 4s 8ms/step - loss: 0.1633 - accuracy: 0.9436 - val_loss: 0.2066 - val_accuracy: 0.9372\n",
      "Epoch 15/40\n",
      "442/448 [============================>.] - ETA: 0s - loss: 0.1614 - accuracy: 0.9455\n",
      "Epoch 15: val_loss did not improve from 0.13872\n",
      "448/448 [==============================] - 4s 8ms/step - loss: 0.1607 - accuracy: 0.9458 - val_loss: 1.1504 - val_accuracy: 0.6220\n",
      "Epoch 16/40\n",
      "441/448 [============================>.] - ETA: 0s - loss: 0.1591 - accuracy: 0.9467\n",
      "Epoch 16: val_loss did not improve from 0.13872\n",
      "448/448 [==============================] - 4s 9ms/step - loss: 0.1589 - accuracy: 0.9467 - val_loss: 0.5297 - val_accuracy: 0.8321\n",
      "Epoch 17/40\n",
      "442/448 [============================>.] - ETA: 0s - loss: 0.1443 - accuracy: 0.9495\n",
      "Epoch 17: val_loss improved from 0.13872 to 0.12325, saving model to weights.hdf5\n",
      "448/448 [==============================] - 4s 9ms/step - loss: 0.1441 - accuracy: 0.9496 - val_loss: 0.1232 - val_accuracy: 0.9622\n",
      "Epoch 18/40\n",
      "448/448 [==============================] - ETA: 0s - loss: 0.1354 - accuracy: 0.9554\n",
      "Epoch 18: val_loss did not improve from 0.12325\n",
      "448/448 [==============================] - 4s 9ms/step - loss: 0.1354 - accuracy: 0.9554 - val_loss: 0.9861 - val_accuracy: 0.6693\n",
      "Epoch 19/40\n",
      "442/448 [============================>.] - ETA: 0s - loss: 0.1342 - accuracy: 0.9545\n",
      "Epoch 19: val_loss did not improve from 0.12325\n",
      "448/448 [==============================] - 4s 9ms/step - loss: 0.1356 - accuracy: 0.9542 - val_loss: 0.2552 - val_accuracy: 0.9220\n",
      "Epoch 20/40\n",
      "442/448 [============================>.] - ETA: 0s - loss: 0.1398 - accuracy: 0.9532\n",
      "Epoch 20: val_loss did not improve from 0.12325\n",
      "448/448 [==============================] - 4s 8ms/step - loss: 0.1400 - accuracy: 0.9532 - val_loss: 0.1390 - val_accuracy: 0.9607\n",
      "Epoch 21/40\n",
      "448/448 [==============================] - ETA: 0s - loss: 0.1267 - accuracy: 0.9563\n",
      "Epoch 21: val_loss did not improve from 0.12325\n",
      "448/448 [==============================] - 4s 9ms/step - loss: 0.1267 - accuracy: 0.9563 - val_loss: 0.2729 - val_accuracy: 0.9185\n",
      "Epoch 22/40\n",
      "445/448 [============================>.] - ETA: 0s - loss: 0.1290 - accuracy: 0.9542\n",
      "Epoch 22: val_loss did not improve from 0.12325\n",
      "448/448 [==============================] - 4s 9ms/step - loss: 0.1287 - accuracy: 0.9545 - val_loss: 0.5875 - val_accuracy: 0.8292\n",
      "Epoch 23/40\n",
      "446/448 [============================>.] - ETA: 0s - loss: 0.1207 - accuracy: 0.9605\n",
      "Epoch 23: val_loss did not improve from 0.12325\n",
      "448/448 [==============================] - 4s 9ms/step - loss: 0.1204 - accuracy: 0.9606 - val_loss: 0.1519 - val_accuracy: 0.9548\n",
      "Epoch 24/40\n",
      "442/448 [============================>.] - ETA: 0s - loss: 0.1146 - accuracy: 0.9604\n",
      "Epoch 24: val_loss did not improve from 0.12325\n",
      "448/448 [==============================] - 4s 8ms/step - loss: 0.1144 - accuracy: 0.9604 - val_loss: 0.1295 - val_accuracy: 0.9628\n",
      "Epoch 25/40\n",
      "448/448 [==============================] - ETA: 0s - loss: 0.1279 - accuracy: 0.9558\n",
      "Epoch 25: val_loss did not improve from 0.12325\n",
      "448/448 [==============================] - 4s 9ms/step - loss: 0.1279 - accuracy: 0.9558 - val_loss: 0.2544 - val_accuracy: 0.9152\n",
      "Epoch 26/40\n",
      "447/448 [============================>.] - ETA: 0s - loss: 0.1125 - accuracy: 0.9619\n",
      "Epoch 26: val_loss did not improve from 0.12325\n",
      "448/448 [==============================] - 4s 9ms/step - loss: 0.1123 - accuracy: 0.9619 - val_loss: 0.1428 - val_accuracy: 0.9580\n",
      "Epoch 27/40\n",
      "442/448 [============================>.] - ETA: 0s - loss: 0.1164 - accuracy: 0.9608\n",
      "Epoch 27: val_loss did not improve from 0.12325\n",
      "448/448 [==============================] - 4s 9ms/step - loss: 0.1172 - accuracy: 0.9607 - val_loss: 0.1753 - val_accuracy: 0.9420\n",
      "Epoch 28/40\n",
      "447/448 [============================>.] - ETA: 0s - loss: 0.1109 - accuracy: 0.9616\n",
      "Epoch 28: val_loss improved from 0.12325 to 0.11773, saving model to weights.hdf5\n",
      "448/448 [==============================] - 4s 9ms/step - loss: 0.1107 - accuracy: 0.9617 - val_loss: 0.1177 - val_accuracy: 0.9673\n",
      "Epoch 29/40\n",
      "446/448 [============================>.] - ETA: 0s - loss: 0.1044 - accuracy: 0.9630\n",
      "Epoch 29: val_loss did not improve from 0.11773\n",
      "448/448 [==============================] - 4s 9ms/step - loss: 0.1043 - accuracy: 0.9630 - val_loss: 0.9330 - val_accuracy: 0.7128\n",
      "Epoch 30/40\n",
      "442/448 [============================>.] - ETA: 0s - loss: 0.1110 - accuracy: 0.9606\n",
      "Epoch 30: val_loss did not improve from 0.11773\n",
      "448/448 [==============================] - 4s 9ms/step - loss: 0.1112 - accuracy: 0.9606 - val_loss: 0.6200 - val_accuracy: 0.8039\n",
      "Epoch 31/40\n",
      "447/448 [============================>.] - ETA: 0s - loss: 0.1040 - accuracy: 0.9650\n",
      "Epoch 31: val_loss did not improve from 0.11773\n",
      "448/448 [==============================] - 4s 9ms/step - loss: 0.1038 - accuracy: 0.9650 - val_loss: 0.2499 - val_accuracy: 0.9277\n",
      "Epoch 32/40\n",
      "443/448 [============================>.] - ETA: 0s - loss: 0.0981 - accuracy: 0.9668\n",
      "Epoch 32: val_loss improved from 0.11773 to 0.11672, saving model to weights.hdf5\n",
      "448/448 [==============================] - 4s 10ms/step - loss: 0.0986 - accuracy: 0.9669 - val_loss: 0.1167 - val_accuracy: 0.9688\n",
      "Epoch 33/40\n",
      "447/448 [============================>.] - ETA: 0s - loss: 0.0989 - accuracy: 0.9660\n",
      "Epoch 33: val_loss did not improve from 0.11672\n",
      "448/448 [==============================] - 4s 9ms/step - loss: 0.0989 - accuracy: 0.9660 - val_loss: 0.5056 - val_accuracy: 0.8622\n",
      "Epoch 34/40\n",
      "445/448 [============================>.] - ETA: 0s - loss: 0.0969 - accuracy: 0.9655\n",
      "Epoch 34: val_loss did not improve from 0.11672\n",
      "448/448 [==============================] - 4s 9ms/step - loss: 0.0969 - accuracy: 0.9655 - val_loss: 0.3851 - val_accuracy: 0.8890\n",
      "Epoch 35/40\n",
      "445/448 [============================>.] - ETA: 0s - loss: 0.0964 - accuracy: 0.9664\n",
      "Epoch 35: val_loss did not improve from 0.11672\n",
      "448/448 [==============================] - 4s 9ms/step - loss: 0.0971 - accuracy: 0.9664 - val_loss: 0.2282 - val_accuracy: 0.9387\n",
      "Epoch 36/40\n",
      "444/448 [============================>.] - ETA: 0s - loss: 0.0941 - accuracy: 0.9676\n",
      "Epoch 36: val_loss did not improve from 0.11672\n",
      "448/448 [==============================] - 4s 9ms/step - loss: 0.0937 - accuracy: 0.9676 - val_loss: 0.1292 - val_accuracy: 0.9655\n",
      "Epoch 37/40\n",
      "447/448 [============================>.] - ETA: 0s - loss: 0.0947 - accuracy: 0.9655\n",
      "Epoch 37: val_loss did not improve from 0.11672\n",
      "448/448 [==============================] - 4s 9ms/step - loss: 0.0947 - accuracy: 0.9655 - val_loss: 0.1437 - val_accuracy: 0.9557\n",
      "Epoch 38/40\n",
      "443/448 [============================>.] - ETA: 0s - loss: 0.0984 - accuracy: 0.9654\n",
      "Epoch 38: val_loss did not improve from 0.11672\n",
      "448/448 [==============================] - 4s 9ms/step - loss: 0.0981 - accuracy: 0.9654 - val_loss: 0.1197 - val_accuracy: 0.9676\n",
      "Epoch 39/40\n",
      "447/448 [============================>.] - ETA: 0s - loss: 0.0991 - accuracy: 0.9647\n",
      "Epoch 39: val_loss did not improve from 0.11672\n",
      "448/448 [==============================] - 4s 9ms/step - loss: 0.0990 - accuracy: 0.9647 - val_loss: 0.1447 - val_accuracy: 0.9616\n",
      "Epoch 40/40\n",
      "447/448 [============================>.] - ETA: 0s - loss: 0.0882 - accuracy: 0.9706\n",
      "Epoch 40: val_loss did not improve from 0.11672\n",
      "448/448 [==============================] - 4s 9ms/step - loss: 0.0881 - accuracy: 0.9707 - val_loss: 0.1488 - val_accuracy: 0.9601\n"
     ]
    }
   ],
   "source": [
    "from keras.callbacks import ModelCheckpoint  \n",
    "\n",
    "# using checkpoints to save model weights to be used later instead of training again on the same epochs.\n",
    "checkpointer = ModelCheckpoint(filepath='weights.hdf5', verbose=1, save_best_only=True)\n",
    "history = model.fit(training_letters_images_scaled, training_letters_labels_encoded, \n",
    "                    validation_data=(testing_letters_images_scaled, testing_letters_labels_encoded),\n",
    "                    epochs=40, batch_size=30, verbose=1, callbacks=[checkpointer])"
   ]
  },
  {
   "cell_type": "code",
   "execution_count": null,
   "metadata": {
    "id": "IkTobDaLSRos"
   },
   "outputs": [],
   "source": [
    "#Load the Model with the Best Validation Loss\n",
    "\n",
    "model.load_weights('weights.hdf5')\n"
   ]
  },
  {
   "cell_type": "markdown",
   "metadata": {
    "id": "v_aoBtoqSkqs"
   },
   "source": [
    "**Test model**"
   ]
  },
  {
   "cell_type": "code",
   "execution_count": null,
   "metadata": {
    "colab": {
     "base_uri": "https://localhost:8080/"
    },
    "id": "U4FGy5RZSqLI",
    "outputId": "0b1d4215-91d1-403d-e67b-78310b83f07c"
   },
   "outputs": [
    {
     "name": "stdout",
     "output_type": "stream",
     "text": [
      "105/105 [==============================] - 1s 4ms/step - loss: 0.1167 - accuracy: 0.9688\n",
      "Test Accuracy: 0.96875\n",
      "Test Loss: 0.11672487109899521\n"
     ]
    }
   ],
   "source": [
    "# Final evaluation of the model\n",
    "metrics = model.evaluate(testing_letters_images_scaled, testing_letters_labels_encoded, verbose=1)\n",
    "print(\"Test Accuracy: {}\".format(metrics[1]))\n",
    "print(\"Test Loss: {}\".format(metrics[0]))"
   ]
  },
  {
   "cell_type": "markdown",
   "metadata": {
    "id": "wk9v6gTfVQ1b"
   },
   "source": []
  },
  {
   "cell_type": "code",
   "execution_count": null,
   "metadata": {
    "id": "IDki76JlVPq0"
   },
   "outputs": [],
   "source": [
    "from sklearn.metrics import classification_report\n",
    "\n",
    "\n",
    "def get_predicted_classes(model, data, labels=None):\n",
    "    image_predictions = model.predict(data)\n",
    "    predicted_classes = np.argmax(image_predictions, axis=1)\n",
    "    true_classes = np.argmax(labels, axis=1)\n",
    "    return predicted_classes, true_classes, image_predictions\n",
    "\n",
    "\n",
    "def get_classification_report(y_true, y_pred):\n",
    "    print(classification_report(y_true, y_pred))"
   ]
  },
  {
   "cell_type": "code",
   "execution_count": null,
   "metadata": {
    "colab": {
     "base_uri": "https://localhost:8080/"
    },
    "id": "aiGCWgobVwMA",
    "outputId": "c4838544-506f-434f-f604-6747a2f3b5fc"
   },
   "outputs": [
    {
     "name": "stdout",
     "output_type": "stream",
     "text": [
      "              precision    recall  f1-score   support\n",
      "\n",
      "           0       0.98      1.00      0.99       120\n",
      "           1       1.00      0.99      1.00       120\n",
      "           2       0.91      0.95      0.93       120\n",
      "           3       0.93      0.96      0.94       120\n",
      "           4       0.98      0.98      0.98       120\n",
      "           5       0.97      0.96      0.97       120\n",
      "           6       0.99      0.98      0.99       120\n",
      "           7       0.97      0.93      0.95       120\n",
      "           8       0.93      0.96      0.94       120\n",
      "           9       0.92      1.00      0.96       120\n",
      "          10       0.99      0.90      0.94       120\n",
      "          11       0.98      1.00      0.99       120\n",
      "          12       0.98      1.00      0.99       120\n",
      "          13       0.95      0.98      0.97       120\n",
      "          14       0.98      0.95      0.97       120\n",
      "          15       0.95      0.97      0.96       120\n",
      "          16       0.98      0.95      0.97       120\n",
      "          17       0.97      0.99      0.98       120\n",
      "          18       1.00      0.99      1.00       120\n",
      "          19       0.94      0.97      0.95       120\n",
      "          20       0.97      0.92      0.94       120\n",
      "          21       0.98      0.99      0.98       120\n",
      "          22       0.98      1.00      0.99       120\n",
      "          23       1.00      0.97      0.99       120\n",
      "          24       1.00      0.90      0.95       120\n",
      "          25       0.97      0.95      0.96       120\n",
      "          26       0.95      0.97      0.96       120\n",
      "          27       0.99      0.99      0.99       120\n",
      "\n",
      "    accuracy                           0.97      3360\n",
      "   macro avg       0.97      0.97      0.97      3360\n",
      "weighted avg       0.97      0.97      0.97      3360\n",
      "\n"
     ]
    }
   ],
   "source": [
    "y_pred, y_true, image_predictions = get_predicted_classes(model, testing_letters_images_scaled, testing_letters_labels_encoded)\n",
    "get_classification_report(y_true, y_pred)"
   ]
  },
  {
   "cell_type": "code",
   "execution_count": null,
   "metadata": {
    "colab": {
     "base_uri": "https://localhost:8080/",
     "height": 296
    },
    "id": "z5j-vrgwV2uX",
    "outputId": "a3043dd1-4223-44ff-be2e-906a1402f948"
   },
   "outputs": [
    {
     "data": {
      "image/png": "[encoded data removed]",
      "text/plain": [
       "<Figure size 432x288 with 6 Axes>"
      ]
     },
     "metadata": {
      "needs_background": "light"
     },
     "output_type": "display_data"
    }
   ],
   "source": [
    "import matplotlib.pyplot as plt\n",
    "\n",
    "errors = (y_pred - y_true != 0)\n",
    "\n",
    "\n",
    "Y_pred_classes_errors = y_pred[errors]\n",
    "Y_pred_errors = image_predictions[errors]\n",
    "Y_true_errors = y_true[errors]\n",
    "X_val_errors = testing_letters_images_scaled[errors]\n",
    "\n",
    "\n",
    "def display_errors(errors_index,img_errors,pred_errors, obs_errors):\n",
    "    \"\"\" This function shows 6 images with their predicted and real labels\"\"\"\n",
    "    n = 0\n",
    "    nrows = 2\n",
    "    ncols = 3\n",
    "    fig, ax = plt.subplots(nrows,ncols,sharex=True,sharey=True)\n",
    "    for row in range(nrows):\n",
    "        for col in range(ncols):\n",
    "            error = errors_index[n]\n",
    "            image_array = np.flip(img_errors[error], 0)\n",
    "            image_array = rotate(img_errors[error], -90)\n",
    "            ax[row,col].imshow((image_array).reshape((32,32)))\n",
    "            ax[row,col].set_title(\"Predicted label :{}\\nTrue label :{}\".format(pred_errors[error],obs_errors[error]))\n",
    "            n += 1\n",
    "\n",
    "# Probabilities of the wrong predicted letters\n",
    "Y_pred_errors_prob = np.max(Y_pred_errors,axis = 1)\n",
    "\n",
    "# Predicted probabilities of the true values in the error set\n",
    "true_prob_errors = np.diagonal(np.take(Y_pred_errors, Y_true_errors, axis=1))\n",
    "\n",
    "# Difference between the probability of the predicted label and the true label\n",
    "delta_pred_true_errors = Y_pred_errors_prob - true_prob_errors\n",
    "\n",
    "# Sorted list of the delta prob errors\n",
    "sorted_dela_errors = np.argsort(delta_pred_true_errors)\n",
    "\n",
    "# Top 6 errors \n",
    "most_important_errors = sorted_dela_errors[-6:]\n",
    "\n",
    "# Show the top 6 errors\n",
    "display_errors(most_important_errors, X_val_errors, Y_pred_classes_errors, Y_true_errors)"
   ]
  }
 ],
 "metadata": {
  "accelerator": "GPU",
  "colab": {
   "collapsed_sections": [],
   "name": "Arabic Hand written recognition.ipynb",
   "provenance": []
  },
  "kernelspec": {
   "display_name": "Python 3 (ipykernel)",
   "language": "python",
   "name": "python3"
  },
  "language_info": {
   "codemirror_mode": {
    "name": "ipython",
    "version": 3
   },
   "file_extension": ".py",
   "mimetype": "text/x-python",
   "name": "python",
   "nbconvert_exporter": "python",
   "pygments_lexer": "ipython3",
   "version": "3.8.12"
  }
 },
 "nbformat": 4,
 "nbformat_minor": 1
}
